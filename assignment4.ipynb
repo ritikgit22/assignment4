{
  "nbformat": 4,
  "nbformat_minor": 0,
  "metadata": {
    "colab": {
      "provenance": []
    },
    "kernelspec": {
      "name": "python3",
      "display_name": "Python 3"
    },
    "language_info": {
      "name": "python"
    }
  },
  "cells": [
    {
      "cell_type": "markdown",
      "source": [
        "## Theory Questions :"
      ],
      "metadata": {
        "id": "4nIskpaxxVi-"
      }
    },
    {
      "cell_type": "markdown",
      "source": [
        "1. What is the difference between a function and a method in Python?"
      ],
      "metadata": {
        "id": "nak4WwMEnVPf"
      }
    },
    {
      "cell_type": "markdown",
      "source": [
        "**In Python, the terms \"function\" and \"method\" are often used interchangeably, but there's a subtle distinction:**\n",
        "\n",
        "**Function:**\n",
        "* A standalone block of code that performs a specific task.\n",
        "* Can be defined independently and called from anywhere in the code.\n",
        "* Doesn't belong to a particular object.\n",
        "\n",
        "**Method:**\n",
        "* A function that is associated with a specific object (instance of a class).\n",
        "* Can access and modify the object's attributes.\n",
        "* Invoked using dot notation (e.g., `object.method()`).\n",
        "\n",
        "**To summarize:**\n",
        "\n",
        "* **Functions** are more general-purpose and can be used without reference to an object.\n",
        "* **Methods** are specific to objects and provide functionality related to that object's properties and behavior.\n",
        "\n",
        "**Example:**\n",
        "\n",
        "```python\n",
        "# Function\n",
        "def greet(name):\n",
        "    print(\"Hello, \" + name + \"!\")\n",
        "\n",
        "# Method (within a class)\n",
        "class Person:\n",
        "    def __init__(self, name):\n",
        "        self.name = name\n",
        "\n",
        "    def greet(self):\n",
        "        print(\"Hello, my name is \" + self.name)\n",
        "\n",
        "# Calling the function\n",
        "greet(\"Alice\")\n",
        "\n",
        "# Creating an object and calling the method\n",
        "person = Person(\"Bob\")\n",
        "person.greet()\n",
        "```\n",
        "\n",
        "In this example, `greet` is a function that can be called independently. `Person.greet` is a method that belongs to the `Person` class and can only be called on instances of that class.\n"
      ],
      "metadata": {
        "id": "EMn8TpXonZaS"
      }
    },
    {
      "cell_type": "markdown",
      "source": [
        "2. Explain the concept of function arguments and parameters in Python."
      ],
      "metadata": {
        "id": "kgjGA5rVnfx8"
      }
    },
    {
      "cell_type": "markdown",
      "source": [
        "**Function Arguments and Parameters in Python**\n",
        "\n",
        "In Python, function arguments and parameters are often used interchangeably, but there's a subtle distinction:\n",
        "\n",
        "* **Parameter:** A variable listed within the parentheses of a function definition. It represents the values that the function expects to receive.\n",
        "* **Argument:** The actual values that are passed to a function when it is called.\n",
        "\n",
        "**Example:**\n",
        "\n",
        "```python\n",
        "def greet(name):  # `name` is a parameter\n",
        "    print(\"Hello, \" + name + \"!\")\n",
        "\n",
        "greet(\"Alice\")  # \"Alice\" is an argument\n",
        "```\n",
        "\n",
        "In this example:\n",
        "- `greet` is a function that takes one parameter named `name`.\n",
        "- When `greet(\"Alice\")` is called, \"Alice\" is passed as an argument to the function. Inside the function, the value \"Alice\" is assigned to the `name` parameter.\n",
        "\n",
        "**Types of Arguments:**\n",
        "\n",
        "1. **Positional Arguments:** Arguments are passed based on their order in the function call.\n",
        "   ```python\n",
        "   def add(x, y):\n",
        "       return x + y\n",
        "\n",
        "   result = add(3, 5)  # 3 is passed to x, 5 is passed to y\n",
        "   ```\n",
        "\n",
        "2. **Keyword Arguments:** Arguments are passed using keyword-value pairs. The order doesn't matter.\n",
        "   ```python\n",
        "   def subtract(x, y):\n",
        "       return x - y\n",
        "\n",
        "   result = subtract(y=5, x=3)  # 3 is passed to x, 5 is passed to y\n",
        "   ```\n",
        "\n",
        "3. **Default Arguments:** Arguments that have a default value specified in the function definition. If not provided in the function call, the default value is used.\n",
        "   ```python\n",
        "   def multiply(x, y=2):\n",
        "       return x * y\n",
        "\n",
        "   result1 = multiply(4)  # y defaults to 2\n",
        "   result2 = multiply(4, 5)  # y is explicitly set to 5\n",
        "   ```\n",
        "\n",
        "**Variable-Length Arguments:**\n",
        "\n",
        "* **Arbitrary Number of Positional Arguments (`*args`):**\n",
        "   ```python\n",
        "   def sum_all(*args):\n",
        "       total = 0\n",
        "       for num in args:\n",
        "           total += num\n",
        "       return total\n",
        "   ```\n",
        "* **Arbitrary Number of Keyword Arguments (`**kwargs`):**\n",
        "   ```python\n",
        "   def print_info(**kwargs):\n",
        "       for key, value in kwargs.items():\n",
        "           print(key, \":\", value)\n",
        "   ```\n",
        "\n",
        "Understanding arguments and parameters is crucial for writing flexible and reusable functions in Python."
      ],
      "metadata": {
        "id": "LDzSmWAanlrf"
      }
    },
    {
      "cell_type": "markdown",
      "source": [
        "3. What are the different ways to define and call a function in Python?"
      ],
      "metadata": {
        "id": "YbBGEm_wnv7N"
      }
    },
    {
      "cell_type": "markdown",
      "source": [
        "There are several ways to define and call a function in Python:\n",
        "\n",
        "**Defining a Function:**\n",
        "\n",
        "1. **Using the `def` keyword:** This is the most common method.\n",
        "   ```python\n",
        "   def greet(name):\n",
        "       print(\"Hello, \" + name + \"!\")\n",
        "   ```\n",
        "\n",
        "2. **Using `lambda` expressions (anonymous functions):**\n",
        "   ```python\n",
        "   greet = lambda name: print(\"Hello, \" + name + \"!\")\n",
        "   ```\n",
        "\n",
        "**Calling a Function:**\n",
        "\n",
        "1. **Directly by name:**\n",
        "   ```python\n",
        "   greet(\"Alice\")\n",
        "   ```\n",
        "\n",
        "2. **Storing the function in a variable and calling the variable:**\n",
        "   ```python\n",
        "   my_function = greet\n",
        "   my_function(\"Bob\")\n",
        "   ```\n",
        "\n",
        "3. **Passing a function as an argument to another function:**\n",
        "   ```python\n",
        "   def apply_function(func, arg):\n",
        "       func(arg)\n",
        "\n",
        "   apply_function(greet, \"Charlie\")\n",
        "   ```\n",
        "\n",
        "4. **Using the `map` function to apply a function to each element of an iterable:**\n",
        "   ```python\n",
        "   names = [\"Alice\", \"Bob\", \"Charlie\"]\n",
        "   greetings = map(greet, names)\n",
        "   for greeting in greetings:\n",
        "       print(greeting)\n",
        "   ```\n",
        "\n",
        "5. **Using the `filter` function to filter elements based on a function's return value:**\n",
        "   ```python\n",
        "   numbers = [1, 2, 3, 4, 5]\n",
        "   even_numbers = filter(lambda x: x % 2 == 0, numbers)\n",
        "   for num in even_numbers:\n",
        "       print(num)\n",
        "   ```\n",
        "\n",
        "**Additional Notes:**\n",
        "\n",
        "* Functions can have multiple parameters, default arguments, and variable-length arguments.\n",
        "* Functions can return values using the `return` statement.\n",
        "* Functions can be nested within other functions.\n",
        "* Python has built-in functions like `print`, `len`, `input`, etc.\n",
        "\n",
        "The choice of method depends on the specific use case and coding style preferences.\n"
      ],
      "metadata": {
        "id": "YNtfsFjUn1km"
      }
    },
    {
      "cell_type": "markdown",
      "source": [
        "4. What is the purpose of the `return` statement in a Python function?"
      ],
      "metadata": {
        "id": "4d1RVXldn-7Q"
      }
    },
    {
      "cell_type": "markdown",
      "source": [
        "The `return` statement in Python is used to:\n",
        "\n",
        "1. **Exit the function:** When the `return` statement is executed, the function immediately stops executing, and control is returned to the calling code.\n",
        "2. **Provide a value to the caller:** The `return` statement can optionally be followed by an expression. This expression's value is returned to the part of the code that called the function.\n",
        "\n",
        "Here are some examples to illustrate the purpose of `return`:\n",
        "\n",
        "**Returning a value:**\n",
        "\n",
        "```python\n",
        "def add(x, y):\n",
        "    return x + y\n",
        "\n",
        "result = add(3, 5)\n",
        "print(result)  # Output: 8\n",
        "```\n",
        "\n",
        "**Exiting the function:**\n",
        "\n",
        "```python\n",
        "def greet(name):\n",
        "    if name == \"\":\n",
        "        return \"Please enter a name.\"\n",
        "    else:\n",
        "        return \"Hello, \" + name + \"!\"\n",
        "\n",
        "message = greet(\"Alice\")\n",
        "print(message)  # Output: Hello, Alice!\n",
        "\n",
        "message = greet(\"\")\n",
        "print(message)  # Output: Please enter a name.\n",
        "```\n",
        "\n",
        "**Returning multiple values:**\n",
        "\n",
        "```python\n",
        "def divide(x, y):\n",
        "    if y == 0:\n",
        "        return None, \"Cannot divide by zero.\"\n",
        "    else:\n",
        "        return x / y, \"Division successful.\"\n",
        "\n",
        "result, message = divide(10, 2)\n",
        "print(result)  # Output: 5.0\n",
        "print(message)  # Output: Division successful.\n",
        "```\n",
        "\n",
        "**Using `return` to break out of loops:**\n",
        "\n",
        "```python\n",
        "def find_first_even(numbers):\n",
        "    for num in numbers:\n",
        "        if num % 2 == 0:\n",
        "            return num\n",
        "    return None\n",
        "\n",
        "result = find_first_even([1, 3, 5, 7, 8])\n",
        "print(result)  # Output: 8\n",
        "```\n",
        "\n",
        "In summary, the `return` statement is a fundamental tool in Python functions for controlling the flow of execution, providing values to the caller, and breaking out of loops.\n"
      ],
      "metadata": {
        "id": "FBgBKlT5oGu7"
      }
    },
    {
      "cell_type": "markdown",
      "source": [
        "5. What are iterators in Python and how do they differ from iterables?"
      ],
      "metadata": {
        "id": "lqCyuhaJoMcE"
      }
    },
    {
      "cell_type": "markdown",
      "source": [
        "**Iterators and Iterables in Python**\n",
        "\n",
        "In Python, iterators and iterables are closely related concepts used for working with sequences of elements.\n",
        "\n",
        "**Iterable:**\n",
        "\n",
        "* An object that can be iterated over, meaning its elements can be accessed one by one.\n",
        "* Examples of iterables include lists, tuples, strings, dictionaries, sets, and custom-defined objects that implement the `__iter__` method.\n",
        "* Iterables provide a way to access their elements using a `for` loop or by calling the `iter()` function to obtain an iterator.\n",
        "\n",
        "**Iterator:**\n",
        "\n",
        "* An object that represents a sequence of elements and provides a way to access them one by one.\n",
        "* It implements the `__iter__` and `__next__` methods:\n",
        "    - `__iter__` returns the iterator itself, allowing it to be used in a `for` loop.\n",
        "    - `__next__` returns the next element in the sequence. If there are no more elements, it raises a `StopIteration` exception.\n",
        "* Iterators are often created by calling the `iter()` function on an iterable.\n",
        "\n",
        "**Key Differences:**\n",
        "\n",
        "* **Iteration:** Iterables define how to iterate over their elements, while iterators actually perform the iteration.\n",
        "* **State:** Iterators maintain an internal state, keeping track of the current position in the sequence. Iterables do not have this internal state.\n",
        "* **Multiple Iterations:** An iterable can be used to create multiple iterators, each representing a separate sequence. An iterator can only be used once.\n",
        "\n",
        "**Example:**\n",
        "\n",
        "```python\n",
        "# Iterable\n",
        "my_list = [1, 2, 3]\n",
        "\n",
        "# Iterator\n",
        "my_iterator = iter(my_list)\n",
        "\n",
        "# Accessing elements using the iterator\n",
        "print(next(my_iterator))  # Output: 1\n",
        "print(next(my_iterator))  # Output: 2\n",
        "print(next(my_iterator))  # Output: 3\n",
        "\n",
        "# Trying to access the next element after the end raises StopIteration\n",
        "try:\n",
        "    print(next(my_iterator))\n",
        "except StopIteration:\n",
        "    print(\"No more elements\")\n",
        "```\n",
        "\n",
        "In summary, iterables provide the data to be iterated over, while iterators provide the mechanism for accessing that data one element at a time. Understanding the distinction between iterators and iterables is essential for working with sequences and writing efficient Python code.\n"
      ],
      "metadata": {
        "id": "P44JpuMFoQs-"
      }
    },
    {
      "cell_type": "markdown",
      "source": [
        "6. Explain the concept of generators in Python and how they are defined."
      ],
      "metadata": {
        "id": "NG6UX-auoWYa"
      }
    },
    {
      "cell_type": "markdown",
      "source": [
        "**Generators in Python**\n",
        "\n",
        "Generators are a special type of function that return iterators. They are defined using the `yield` keyword instead of `return`. When a generator function is called, it doesn't execute all at once. Instead, it returns a generator object that can be iterated over. Each time `next()` is called on the generator object, the function resumes execution from where it left off until it encounters the next `yield` statement. The value yielded is returned to the caller.\n",
        "\n",
        "**Key characteristics of generators:**\n",
        "\n",
        "* **Lazy evaluation:** Generators only generate values when requested, which can be efficient for large datasets or infinite sequences.\n",
        "* **State preservation:** Generators maintain their state between calls, allowing them to resume execution from where they left off.\n",
        "* **Simplified iteration:** Generators are often used in conjunction with `for` loops to simplify iteration over sequences.\n",
        "\n",
        "**Defining a generator:**\n",
        "\n",
        "```python\n",
        "def my_generator():\n",
        "    for i in range(5):\n",
        "        yield i\n",
        "```\n",
        "\n",
        "**Using a generator:**\n",
        "\n",
        "```python\n",
        "for num in my_generator():\n",
        "    print(num)\n",
        "```\n",
        "\n",
        "**How generators work:**\n",
        "\n",
        "1. When `my_generator()` is called, it returns a generator object.\n",
        "2. The first time `next()` is called on the generator object, the function executes until the first `yield` statement. The value `0` is yielded and returned to the caller.\n",
        "3. The next time `next()` is called, the function resumes execution from where it left off, continues to the next `yield` statement, and yields `1`.\n",
        "4. This process continues until all elements have been yielded.\n",
        "\n",
        "**Example:**\n",
        "\n",
        "```python\n",
        "def fibonacci():\n",
        "    a, b = 0, 1\n",
        "    while True:\n",
        "        yield a\n",
        "        a, b = b, a + b\n",
        "\n",
        "for num in fibonacci():\n",
        "    if num > 100:\n",
        "        break\n",
        "    print(num)\n",
        "```\n",
        "\n",
        "**Common use cases for generators:**\n",
        "\n",
        "* **Creating infinite sequences:** Generators can be used to create sequences that can be iterated over indefinitely, such as Fibonacci numbers or prime numbers.\n",
        "* **Processing large datasets:** Generators can be used to process large datasets efficiently by generating elements on-demand.\n",
        "* **Implementing custom iterators:** Generators can be used to implement custom iterators that provide specific functionality.\n",
        "\n",
        "**In summary:** Generators provide a powerful and efficient way to create iterators in Python. They are particularly useful for working with large datasets or infinite sequences.\n"
      ],
      "metadata": {
        "id": "jW1Qx0tAojHg"
      }
    },
    {
      "cell_type": "markdown",
      "source": [
        "7. What are the advantages of using generators over regular functions?"
      ],
      "metadata": {
        "id": "8z-9N62xoo7J"
      }
    },
    {
      "cell_type": "markdown",
      "source": [
        "**Advantages of Using Generators Over Regular Functions**\n",
        "\n",
        "Generators offer several advantages over regular functions in Python:\n",
        "\n",
        "1. **Memory Efficiency:**\n",
        "   - Generators avoid creating and storing entire sequences in memory at once. Instead, they generate elements on-demand, leading to significant memory savings, especially when dealing with large datasets.\n",
        "\n",
        "2. **Efficiency for Infinite Sequences:**\n",
        "   - Generators are well-suited for creating infinite sequences like Fibonacci numbers or prime numbers. Regular functions would require storing the entire sequence in memory, which is impractical.\n",
        "\n",
        "3. **Simplified Iteration:**\n",
        "   - Generators are often used in conjunction with `for` loops to simplify iteration over sequences. The `for` loop automatically handles the creation and iteration of the generator object, making the code more concise and readable.\n",
        "\n",
        "4. **Custom Iterators:**\n",
        "   - Generators can be used to implement custom iterators with specific behaviors or filtering logic. This allows you to create flexible and reusable iteration mechanisms.\n",
        "\n",
        "5. **Lazy Evaluation:**\n",
        "   - Generators provide lazy evaluation, meaning elements are generated only when requested. This can be beneficial when processing large datasets or when the result of a computation is not needed immediately.\n",
        "\n",
        "6. **Pipeline Processing:**\n",
        "   - Generators can be combined with other generators or functions to create pipelines of data processing operations. This allows for efficient and modular data processing.\n",
        "\n",
        "**In summary:** Generators offer a more efficient, memory-friendly, and flexible approach to working with sequences of data compared to regular functions. They are particularly useful for large datasets, infinite sequences, custom iterators, and pipeline processing."
      ],
      "metadata": {
        "id": "UoZ2fFvSouko"
      }
    },
    {
      "cell_type": "markdown",
      "source": [
        "8. What is a lambda function in Python and when is it typically used?"
      ],
      "metadata": {
        "id": "Mt7-3DMPo3hy"
      }
    },
    {
      "cell_type": "markdown",
      "source": [
        "**Lambda Functions in Python**\n",
        "\n",
        "A lambda function, also known as an anonymous function, is a small, inline function defined without a name. It's often used for short, simple functions that are only needed once.\n",
        "\n",
        "**Syntax:**\n",
        "\n",
        "```python\n",
        "lambda arguments: expression\n",
        "```\n",
        "\n",
        "**Example:**\n",
        "\n",
        "```python\n",
        "add = lambda x, y: x + y\n",
        "result = add(3, 5)\n",
        "print(result)  # Output: 8\n",
        "```\n",
        "\n",
        "**When to use lambda functions:**\n",
        "\n",
        "* **Short, simple functions:** Lambda functions are ideal for functions that are only used once and don't require a separate named function definition.\n",
        "* **Passing functions as arguments:** Lambda functions can be used as arguments to other functions that require a function as input, such as `map`, `filter`, and `sorted`.\n",
        "* **Creating quick one-liners:** Lambda functions can be used to create concise, one-line expressions.\n",
        "\n",
        "**Example with `map`:**\n",
        "\n",
        "```python\n",
        "numbers = [1, 2, 3, 4, 5]\n",
        "squared_numbers = list(map(lambda x: x**2, numbers))\n",
        "print(squared_numbers)  # Output: [1, 4, 9, 16, 25]\n",
        "```\n",
        "\n",
        "**Example with `filter`:**\n",
        "\n",
        "```python\n",
        "numbers = [1, 2, 3, 4, 5]\n",
        "even_numbers = list(filter(lambda x: x % 2 == 0, numbers))\n",
        "print(even_numbers)  # Output: [2, 4]\n",
        "```\n",
        "\n",
        "**Key points to remember:**\n",
        "\n",
        "* Lambda functions can have multiple arguments but can only contain a single expression.\n",
        "* Lambda functions are often used for functional programming paradigms.\n",
        "* While they can be convenient for short functions, using named functions for more complex logic is generally considered better practice for readability and maintainability.\n",
        "\n",
        "**In summary:** Lambda functions provide a concise and efficient way to define small, inline functions in Python. They are particularly useful for passing functions as arguments and creating one-line expressions.\n"
      ],
      "metadata": {
        "id": "oUZFF3fvo8DE"
      }
    },
    {
      "cell_type": "markdown",
      "source": [
        "9. Explain the purpose and usage of the `map()` function in Python."
      ],
      "metadata": {
        "id": "pSDNoklwpCyb"
      }
    },
    {
      "cell_type": "markdown",
      "source": [
        "The `map()` function in Python is a built-in function that applies a given function to each element of an iterable (like a list, tuple, or string) and returns an iterator containing the results.\n",
        "\n",
        "**Purpose:**\n",
        "\n",
        "* **Apply a function to each element:** It's a convenient way to perform the same operation on multiple elements of an iterable.\n",
        "* **Create new sequences:** It can be used to create new sequences based on the results of the applied function.\n",
        "\n",
        "**Usage:**\n",
        "\n",
        "```python\n",
        "map(function, iterable)\n",
        "```\n",
        "\n",
        "- **`function`:** The function to be applied to each element of the iterable.\n",
        "- **`iterable`:** The iterable whose elements will be processed.\n",
        "\n",
        "**Example:**\n",
        "\n",
        "```python\n",
        "numbers = [1, 2, 3, 4, 5]\n",
        "\n",
        "# Square each number\n",
        "squared_numbers = map(lambda x: x**2, numbers)\n",
        "\n",
        "# Convert the iterator to a list\n",
        "squared_numbers_list = list(squared_numbers)\n",
        "\n",
        "print(squared_numbers_list)  # Output: [1, 4, 9, 16, 25]\n",
        "```\n",
        "\n",
        "**Key points:**\n",
        "\n",
        "* The `map()` function returns an iterator, not a list. To get a list of results, you need to convert the iterator to a list using `list()`.\n",
        "* The function passed to `map()` can be any callable object, including a lambda function, a regular function, or a method.\n",
        "* The `map()` function can be used with multiple iterables if the function takes multiple arguments.\n",
        "\n",
        "**Additional examples:**\n",
        "\n",
        "``\n",
        "# Convert a list of strings to uppercase\n",
        "strings = [\"hello\", \"world\", \"python\"]\n",
        "uppercase_strings = map(lambda x: x.upper(), strings)\n",
        "print(list(uppercase_strings))  # Output: ['HELLO', 'WORLD', 'PYTHON']\n",
        "\n",
        "# Multiply each element of two lists\n",
        "list1 = [1, 2, 3]\n",
        "list2 = [4, 5, 6]\n",
        "products = map(lambda x, y: x * y, list1, list2)\n",
        "print(list(products))  # Output: [4, 10, 18]\n",
        "```\n",
        "\n",
        "The `map()` function is a valuable tool for performing operations on multiple elements of iterables in a concise and efficient manner.\n"
      ],
      "metadata": {
        "id": "_ZhTHhWppG36"
      }
    },
    {
      "cell_type": "markdown",
      "source": [
        "10. What is the difference between `map()`, `reduce()`, and `filter()` functions in Python?"
      ],
      "metadata": {
        "id": "tTgzv_7LpQwE"
      }
    },
    {
      "cell_type": "markdown",
      "source": [
        "The `map()`, `reduce()`, and `filter()` functions are built-in functions in Python that are commonly used for functional programming paradigms. Each function has a specific purpose and usage:\n",
        "\n",
        "**map():**\n",
        "\n",
        "* Applies a given function to each element of an iterable and returns an iterator containing the results.\n",
        "* Typically used for transforming elements of an iterable.\n",
        "* Example:\n",
        "  ```python\n",
        "  numbers = [1, 2, 3, 4, 5]\n",
        "  squared_numbers = map(lambda x: x**2, numbers)\n",
        "  print(list(squared_numbers))  # Output: [1, 4, 9, 16, 25]\n",
        "  ```\n",
        "\n",
        "**reduce():**\n",
        "\n",
        "* Applies a given function to the elements of an iterable, accumulating a single result.\n",
        "* Typically used for combining elements of an iterable into a single value.\n",
        "* Requires the `functools` module to be imported.\n",
        "* Example:\n",
        "  ```python\n",
        "  from functools import reduce\n",
        "  numbers = [1, 2, 3, 4, 5]\n",
        "  product = reduce(lambda x, y: x * y, numbers)\n",
        "  print(product)  # Output: 120\n",
        "  ```\n",
        "\n",
        "**filter():**\n",
        "\n",
        "* Creates a new iterator containing only those elements of the original iterable that satisfy a given condition.\n",
        "* Typically used for filtering elements based on a predicate function.\n",
        "* Example:\n",
        "  ```python\n",
        "  numbers = [1, 2, 3, 4, 5]\n",
        "  even_numbers = filter(lambda x: x % 2 == 0, numbers)\n",
        "  print(list(even_numbers))  # Output: [2, 4]\n",
        "  ```\n",
        "\n",
        "**In summary:**\n",
        "\n",
        "* **map()** applies a function to each element and returns a new iterable.\n",
        "* **reduce()** combines elements into a single value using a function.\n",
        "* **filter()** selects elements based on a condition and returns a new iterable.\n",
        "\n",
        "The choice of function depends on the specific task and the desired outcome.\n"
      ],
      "metadata": {
        "id": "di2mM9bOpWQe"
      }
    },
    {
      "cell_type": "markdown",
      "source": [
        "11. Using pen & Paper write the internal mechanism for sum operation using reduce function on this given list:[47,11,42,13]"
      ],
      "metadata": {
        "id": "Q-ZB_DxtpbpN"
      }
    },
    {
      "cell_type": "markdown",
      "source": [
        "I'd be glad to provide a step-by-step explanation of the internal mechanism of the `reduce()` function when applied to the list `[47, 11, 42, 13]`, using a pen-and-paper approach:\n",
        "\n",
        "**1. Initial State:**\n",
        "\n",
        "- The `reduce()` function starts with an initial value, which is typically the first element of the list. In this case, the initial value is `47`.\n",
        "\n",
        "**2. Iteration:**\n",
        "\n",
        "- The `reduce()` function iterates over the remaining elements of the list, from index 1 to the end.\n",
        "- At each iteration, the accumulated value (initially `47`) is combined with the current element using the provided function.\n",
        "\n",
        "**3. Applying the Function:**\n",
        "\n",
        "- The function passed to `reduce()` is typically a lambda function or a regular function that takes two arguments: the accumulated value and the current element.\n",
        "- In this case, the function is likely `lambda x, y: x + y`, which adds the accumulated value and the current element.\n",
        "\n",
        "**4. Accumulating the Result:**\n",
        "\n",
        "- The result of the function call becomes the new accumulated value for the next iteration.\n",
        "\n",
        "**5. Final Result:**\n",
        "\n",
        "- After iterating over all elements, the final accumulated value is returned as the result of the `reduce()` function.\n",
        "\n",
        "**Step-by-Step Breakdown:**\n",
        "\n",
        "**Iteration 1:**\n",
        "\n",
        "- Accumulated value: `47`\n",
        "- Current element: `11`\n",
        "- Function: `lambda x, y: x + y`\n",
        "- Result: `47 + 11 = 58`\n",
        "- New accumulated value: `58`\n",
        "\n",
        "**Iteration 2:**\n",
        "\n",
        "- Accumulated value: `58`\n",
        "- Current element: `42`\n",
        "- Function: `lambda x, y: x + y`\n",
        "- Result: `58 + 42 = 100`\n",
        "- New accumulated value: `100`\n",
        "\n",
        "**Iteration 3:**\n",
        "\n",
        "- Accumulated value: `100`\n",
        "- Current element: `13`\n",
        "- Function: `lambda x, y: x + y`\n",
        "- Result: `100 + 13 = 113`\n",
        "- New accumulated value: `113`\n",
        "\n",
        "**Final Result:**\n",
        "\n",
        "- The final accumulated value, `113`, is the result of the `reduce()` function applied to the list `[47, 11, 42, 13]`.\n",
        "\n",
        "**Visual Representation:**\n",
        "\n",
        "```\n",
        "47 -> 58 -> 100 -> 113\n",
        "```\n",
        "\n",
        "This step-by-step process demonstrates how the `reduce()` function effectively accumulates the sum of the elements in the given list using the provided function.\n"
      ],
      "metadata": {
        "id": "1Cyl1zLSpi_n"
      }
    },
    {
      "cell_type": "markdown",
      "source": [
        "## Practical Questions :"
      ],
      "metadata": {
        "id": "DUw9Eo0ex4vr"
      }
    },
    {
      "cell_type": "markdown",
      "source": [
        "1. Write a Python function that takes a list of numbers as input and returns the sum of all even numbers in the list."
      ],
      "metadata": {
        "id": "I4U0j224qJ1h"
      }
    },
    {
      "cell_type": "code",
      "source": [
        "def sum_even_numbers(numbers):\n",
        "  \"\"\"Calculates the sum of even numbers in a list.\n",
        "\n",
        "  Args:\n",
        "    numbers: A list of numbers.\n",
        "\n",
        "  Returns:\n",
        "    The sum of even numbers in the list.\n",
        "  \"\"\"\n",
        "\n",
        "  sum_even = 0\n",
        "  for num in numbers:\n",
        "    if num % 2 == 0:\n",
        "      sum_even += num\n",
        "  return sum_even"
      ],
      "metadata": {
        "id": "xRHxI4Ucuuog"
      },
      "execution_count": 1,
      "outputs": []
    },
    {
      "cell_type": "markdown",
      "source": [
        "2. Create a Python function that accepts a string and returns the reverse of that string."
      ],
      "metadata": {
        "id": "EYOCi8G2ufJ-"
      }
    },
    {
      "cell_type": "code",
      "source": [
        "def reverse_string(string):\n",
        "  \"\"\"Reverses a given string.\n",
        "\n",
        "  Args:\n",
        "    string: The string to be reversed.\n",
        "\n",
        "  Returns:\n",
        "    The reversed string.\n",
        "  \"\"\"\n",
        "\n",
        "  reversed_string = \"\"\n",
        "  for char in string:\n",
        "    reversed_string = char + reversed_string\n",
        "  return reversed_string"
      ],
      "metadata": {
        "id": "sNRudA6Gu57T"
      },
      "execution_count": 2,
      "outputs": []
    },
    {
      "cell_type": "markdown",
      "source": [
        "3. Implement a Python function that takes a list of integers and returns a new list containing the squares of each number."
      ],
      "metadata": {
        "id": "n05C4W8CvApQ"
      }
    },
    {
      "cell_type": "code",
      "source": [
        "def square_numbers(numbers):\n",
        "  \"\"\"Squares each number in a list.\n",
        "\n",
        "  Args:\n",
        "    numbers: A list of integers.\n",
        "\n",
        "  Returns:\n",
        "    A new list containing the squares of each number.\n",
        "  \"\"\"\n",
        "\n",
        "  squared_numbers = []\n",
        "  for num in numbers:\n",
        "    squared_numbers.append(num ** 2)\n",
        "  return squared_numbers"
      ],
      "metadata": {
        "id": "vOzPTFtkvEiZ"
      },
      "execution_count": 3,
      "outputs": []
    },
    {
      "cell_type": "markdown",
      "source": [
        "4. Write a Python function that checks if a given number is prime or not from 1 to 200."
      ],
      "metadata": {
        "id": "c6DfjYztvHwD"
      }
    },
    {
      "cell_type": "code",
      "source": [
        "def is_prime(number):\n",
        "  \"\"\"Checks if a given number is prime.\n",
        "\n",
        "  Args:\n",
        "    number: The number to check.\n",
        "\n",
        "  Returns:\n",
        "    True if the number is prime, False otherwise.\n",
        "  \"\"\"\n",
        "\n",
        "  if number <= 1:\n",
        "    return False\n",
        "  if number <= 3:\n",
        "    return True\n",
        "  if number % 2 == 0 or number % 3 == 0:\n",
        "    return False\n",
        "\n",
        "  i = 5\n",
        "  while i * i <= number:\n",
        "    if number % i == 0 or number % (i + 2) == 0:\n",
        "      return False\n",
        "    i += 6\n",
        "\n",
        "  return True\n",
        "\n",
        "# Check prime numbers from 1 to 200\n",
        "for num in range(1, 201):\n",
        "  if is_prime(num):\n",
        "    print(num, \"is prime\")"
      ],
      "metadata": {
        "colab": {
          "base_uri": "https://localhost:8080/"
        },
        "id": "GtofaK2gvM7r",
        "outputId": "7374c0fb-fcc7-49a1-b500-8c13e5d80a58"
      },
      "execution_count": 4,
      "outputs": [
        {
          "output_type": "stream",
          "name": "stdout",
          "text": [
            "2 is prime\n",
            "3 is prime\n",
            "5 is prime\n",
            "7 is prime\n",
            "11 is prime\n",
            "13 is prime\n",
            "17 is prime\n",
            "19 is prime\n",
            "23 is prime\n",
            "29 is prime\n",
            "31 is prime\n",
            "37 is prime\n",
            "41 is prime\n",
            "43 is prime\n",
            "47 is prime\n",
            "53 is prime\n",
            "59 is prime\n",
            "61 is prime\n",
            "67 is prime\n",
            "71 is prime\n",
            "73 is prime\n",
            "79 is prime\n",
            "83 is prime\n",
            "89 is prime\n",
            "97 is prime\n",
            "101 is prime\n",
            "103 is prime\n",
            "107 is prime\n",
            "109 is prime\n",
            "113 is prime\n",
            "127 is prime\n",
            "131 is prime\n",
            "137 is prime\n",
            "139 is prime\n",
            "149 is prime\n",
            "151 is prime\n",
            "157 is prime\n",
            "163 is prime\n",
            "167 is prime\n",
            "173 is prime\n",
            "179 is prime\n",
            "181 is prime\n",
            "191 is prime\n",
            "193 is prime\n",
            "197 is prime\n",
            "199 is prime\n"
          ]
        }
      ]
    },
    {
      "cell_type": "markdown",
      "source": [
        "5. Create an iterator class in Python that generates the Fibonacci sequence up to a specified number of terms."
      ],
      "metadata": {
        "id": "QAhU0lH4vP8-"
      }
    },
    {
      "cell_type": "code",
      "source": [
        "class FibonacciIterator:\n",
        "    \"\"\"An iterator for the Fibonacci sequence.\"\"\"\n",
        "\n",
        "    def __init__(self, num_terms):\n",
        "        \"\"\"Initializes the Fibonacci iterator.\n",
        "\n",
        "        Args:\n",
        "          num_terms: The number of terms to generate.\n",
        "        \"\"\"\n",
        "        self.num_terms = num_terms\n",
        "        self.current_term = 0\n",
        "        self.fib_sequence = [0, 1]  # Initialize the Fibonacci sequence\n",
        "\n",
        "    def __iter__(self):\n",
        "        return self\n",
        "\n",
        "    def __next__(self):\n",
        "        if self.current_term >= self.num_terms:\n",
        "            raise StopIteration\n",
        "\n",
        "        if self.current_term == 0:\n",
        "            result = 0\n",
        "        elif self.current_term == 1:\n",
        "            result = 1\n",
        "        else:\n",
        "            result = self.fib_sequence[-1] + self.fib_sequence[-2]\n",
        "            self.fib_sequence.append(result)\n",
        "\n",
        "        self.current_term += 1\n",
        "        return result\n",
        "\n",
        "# Example usage\n",
        "num_terms = 10\n",
        "fib_iterator = FibonacciIterator(num_terms)\n",
        "for fib_num in fib_iterator:\n",
        "    print(fib_num)\n"
      ],
      "metadata": {
        "colab": {
          "base_uri": "https://localhost:8080/"
        },
        "id": "NLclYsCZvVoI",
        "outputId": "2f76585b-4b28-4aca-a1cd-19cf338343be"
      },
      "execution_count": 6,
      "outputs": [
        {
          "output_type": "stream",
          "name": "stdout",
          "text": [
            "0\n",
            "1\n",
            "1\n",
            "2\n",
            "3\n",
            "5\n",
            "8\n",
            "13\n",
            "21\n",
            "34\n"
          ]
        }
      ]
    },
    {
      "cell_type": "markdown",
      "source": [
        "6. Write a generator function in Python that yields the powers of 2 up to a given exponent."
      ],
      "metadata": {
        "id": "F6YBOqlIwFxU"
      }
    },
    {
      "cell_type": "code",
      "source": [
        "def powers_of_two(exponent):\n",
        "  \"\"\"Yields the powers of 2 up to a given exponent.\n",
        "\n",
        "  Args:\n",
        "    exponent: The maximum exponent for the powers of 2.\n",
        "\n",
        "  Yields:\n",
        "    The powers of 2 up to the given exponent.\n",
        "  \"\"\"\n",
        "\n",
        "  result = 1\n",
        "  for _ in range(exponent + 1):\n",
        "    yield result\n",
        "    result *= 2\n",
        "\n",
        "# Example usage:\n",
        "for power in powers_of_two(5):\n",
        "  print(power)"
      ],
      "metadata": {
        "colab": {
          "base_uri": "https://localhost:8080/"
        },
        "id": "I0aY7BcIwJH5",
        "outputId": "36bd75b6-a69c-40c5-f107-7a06a6886253"
      },
      "execution_count": 7,
      "outputs": [
        {
          "output_type": "stream",
          "name": "stdout",
          "text": [
            "1\n",
            "2\n",
            "4\n",
            "8\n",
            "16\n",
            "32\n"
          ]
        }
      ]
    },
    {
      "cell_type": "markdown",
      "source": [
        "7. Implement a generator function that reads a file line by line and yields each line as a string."
      ],
      "metadata": {
        "id": "4JfEPFNKwO1_"
      }
    },
    {
      "cell_type": "code",
      "source": [
        "def read_file_lines(filename):\n",
        "  \"\"\"Reads a file line by line and yields each line as a string.\n",
        "\n",
        "  Args:\n",
        "    filename: The name of the file to read.\n",
        "\n",
        "  Yields:\n",
        "    Each line of the file as a string.\n",
        "  \"\"\"\n",
        "\n",
        "  with open(filename, 'r') as file:\n",
        "    for line in file:\n",
        "      yield line.strip()\n",
        "\n",
        "# Example usage:\n",
        "for line in read_file_lines('my_file.txt'):\n",
        "  print(line)"
      ],
      "metadata": {
        "id": "iEvTIqIJwS88"
      },
      "execution_count": 8,
      "outputs": []
    },
    {
      "cell_type": "markdown",
      "source": [
        "8. Use a lambda function in Python to sort a list of tuples based on the second element of each tuple."
      ],
      "metadata": {
        "id": "Ff_N2AQYwt2h"
      }
    },
    {
      "cell_type": "code",
      "source": [
        "my_list = [(1, 3), (4, 2), (2, 5)]\n",
        "\n",
        "# Sort the list based on the second element of each tuple\n",
        "sorted_list = sorted(my_list, key=lambda x: x[1])\n",
        "\n",
        "print(sorted_list)  # Output: [(4, 2), (1, 3), (2, 5)]"
      ],
      "metadata": {
        "colab": {
          "base_uri": "https://localhost:8080/"
        },
        "id": "qP8cgCw6wxBm",
        "outputId": "2cf0df49-eac7-4524-8d6d-2183a2929e5f"
      },
      "execution_count": 9,
      "outputs": [
        {
          "output_type": "stream",
          "name": "stdout",
          "text": [
            "[(4, 2), (1, 3), (2, 5)]\n"
          ]
        }
      ]
    },
    {
      "cell_type": "markdown",
      "source": [
        "9. Write a Python program that uses `map()` to convert a list of temperatures from Celsius to Fahrenheit."
      ],
      "metadata": {
        "id": "8WATsZ9Tw2Pb"
      }
    },
    {
      "cell_type": "code",
      "source": [
        "def celsius_to_fahrenheit(celsius):\n",
        "  \"\"\"Converts Celsius to Fahrenheit.\n",
        "\n",
        "  Args:\n",
        "    celsius: The temperature in Celsius.\n",
        "\n",
        "  Returns:\n",
        "    The temperature in Fahrenheit.\n",
        "  \"\"\"\n",
        "\n",
        "  return (celsius * 9/5) + 32\n",
        "\n",
        "temperatures_celsius = [25, 30, 35]\n",
        "\n",
        "temperatures_fahrenheit = list(map(celsius_to_fahrenheit, temperatures_celsius))\n",
        "\n",
        "print(temperatures_fahrenheit)"
      ],
      "metadata": {
        "colab": {
          "base_uri": "https://localhost:8080/"
        },
        "id": "G5gAfrV6w9JB",
        "outputId": "edd05803-52e9-40a9-9b17-b31a742d65af"
      },
      "execution_count": 10,
      "outputs": [
        {
          "output_type": "stream",
          "name": "stdout",
          "text": [
            "[77.0, 86.0, 95.0]\n"
          ]
        }
      ]
    },
    {
      "cell_type": "markdown",
      "source": [
        "10. Create a Python program that uses `filter()` to remove all the vowels from a given string."
      ],
      "metadata": {
        "id": "xDXgiguHxC3U"
      }
    },
    {
      "cell_type": "code",
      "source": [
        "def remove_vowels(string):\n",
        "  \"\"\"Removes all vowels from a given string.\n",
        "\n",
        "  Args:\n",
        "    string: The input string.\n",
        "\n",
        "  Returns:\n",
        "    The string with all vowels removed.\n",
        "  \"\"\"\n",
        "\n",
        "  vowels = \"aeiouAEIOU\"\n",
        "  return \"\".join(char for char in string if char not in vowels)\n",
        "\n",
        "string = \"Hello, world!\"\n",
        "result = filter(lambda char: char not in \"aeiouAEIOU\", string)\n",
        "result_string = \"\".join(result)\n",
        "print(result_string)"
      ],
      "metadata": {
        "colab": {
          "base_uri": "https://localhost:8080/"
        },
        "id": "XeoiRZ0oxFXn",
        "outputId": "10b71983-77c7-489d-929d-0d87828a8849"
      },
      "execution_count": 11,
      "outputs": [
        {
          "output_type": "stream",
          "name": "stdout",
          "text": [
            "Hll, wrld!\n"
          ]
        }
      ]
    }
  ]
}